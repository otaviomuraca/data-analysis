{
 "cells": [
  {
   "cell_type": "markdown",
   "id": "c4cfb4c3",
   "metadata": {
    "papermill": {
     "duration": 0.010005,
     "end_time": "2023-07-25T22:06:35.277119",
     "exception": false,
     "start_time": "2023-07-25T22:06:35.267114",
     "status": "completed"
    },
    "tags": []
   },
   "source": [
    "# Pizzaria - Planejamento de Vendas Semanal\n",
    "por Otávio Muraca\n",
    "\n",
    "![](https://s.zst.com.br/cms-assets/2021/04/como-fazer-pizza-de-liquidificador-capa.jpg)\n",
    "\n",
    "## Introdução:\n",
    "Este projeto é uma iniciativa que visa otimizar a gestão de vendas de um estabelecimento, identificando padrões de consumo de produtos ao longo dos dias e horas da semana. Através da análise cuidadosa das vendas registradas, nosso objetivo é entender a demanda média de produtos em diferentes momentos, permitindo uma melhor preparação da pré-produção para agilizar a confecção e, ao mesmo tempo, reduzir desperdícios excessivos.\n",
    "\n",
    "## Objetivos:\n",
    "\n",
    "Identificar a demanda média de produtos vendidos por dia da semana e hora do dia.\n",
    "Prever picos de venda e períodos de menor demanda para otimizar a produção e estoque.\n",
    "Reduzir os custos associados ao excesso de produção e evitar a falta de produtos em momentos de alta demanda.\n",
    "Fornecer insights para a equipe de gestão tomar decisões mais informadas sobre a produção e a disponibilidade de produtos.\n",
    "\n",
    "Para atingir esses objetivos, o processo pode ser dividido em algumas etapas-chave:\n",
    "\n",
    "**Coleta de Dados:** Faremos a coleta dos registros de vendas do estabelecimento, que podem incluir informações como data e hora da venda, quantidade de cada produto vendido e outros dados relevantes.\n",
    "\n",
    "**Limpeza e Preparação dos Dados:** É fundamental garantir que os dados estejam limpos e organizados para uma análise adequada. Vamos tratar dados faltantes, remover informações duplicadas e formatar as datas e horas corretamente.\n",
    "\n",
    "**Análise Exploratória:** Nesta etapa, faremos uma análise inicial dos dados para obter insights sobre os padrões gerais de venda ao longo dos dias e horas da semana. Gráficos e visualizações serão utilizados para facilitar a compreensão desses padrões.\n",
    "\n",
    "**Cálculo de Médias:** Calcularemos as médias de vendas por dia da semana e hora do dia para determinar os períodos de maior e menor demanda.\n",
    "\n",
    "**Previsão de Demanda:** Utilizaremos técnicas de previsão para identificar possíveis picos de venda e períodos de baixa demanda. Isso permitirá que a gerência se antecipe e tome medidas preventivas ou pró-ativas para evitar problemas de estoque.\n",
    "\n",
    "**Recomendações:** Com base nos resultados obtidos, forneceremos recomendações concretas para a equipe de gerenciamento tomar decisões informadas sobre a pré-produção e gestão de estoque.\n",
    "\n",
    "## Benefícios:\n",
    "\n",
    "Através da implementação deste projeto, esperamos que o estabelecimento possa colher os seguintes benefícios:\n",
    "\n",
    "**Redução de desperdícios:** Evitará a superprodução de produtos, reduzindo assim o desperdício de insumos e recursos financeiros.\n",
    "\n",
    "**Aumento da eficiência:** A agilização da confecção de produtos garantirá que a demanda seja atendida de forma mais rápida e eficiente.\n",
    "\n",
    "**Satisfação do cliente:** Ao evitar a falta de produtos em momentos de alta demanda, o estabelecimento poderá melhorar a satisfação do cliente ao garantir a disponibilidade dos itens desejados.\n",
    "\n",
    "**Tomada de decisões embasada:** As informações obtidas permitirão à equipe de gestão tomar decisões estratégicas embasadas em dados concretos, em vez de depender apenas de intuições ou estimativas."
   ]
  },
  {
   "cell_type": "markdown",
   "id": "c00446bb",
   "metadata": {
    "papermill": {
     "duration": 0.008985,
     "end_time": "2023-07-25T22:06:35.295820",
     "exception": false,
     "start_time": "2023-07-25T22:06:35.286835",
     "status": "completed"
    },
    "tags": []
   },
   "source": [
    "## Importações"
   ]
  },
  {
   "cell_type": "markdown",
   "id": "6131b9ea",
   "metadata": {
    "_kg_hide-input": true,
    "papermill": {
     "duration": 0.010768,
     "end_time": "2023-07-25T22:06:35.315851",
     "exception": false,
     "start_time": "2023-07-25T22:06:35.305083",
     "status": "completed"
    },
    "tags": []
   },
   "source": [
    "### Bibliotecas"
   ]
  },
  {
   "cell_type": "code",
   "execution_count": 1,
   "id": "6f00e844",
   "metadata": {
    "execution": {
     "iopub.execute_input": "2023-07-25T22:06:35.336895Z",
     "iopub.status.busy": "2023-07-25T22:06:35.336322Z",
     "iopub.status.idle": "2023-07-25T22:06:36.599922Z",
     "shell.execute_reply": "2023-07-25T22:06:36.598790Z"
    },
    "papermill": {
     "duration": 1.27771,
     "end_time": "2023-07-25T22:06:36.602788",
     "exception": false,
     "start_time": "2023-07-25T22:06:35.325078",
     "status": "completed"
    },
    "tags": []
   },
   "outputs": [
    {
     "name": "stderr",
     "output_type": "stream",
     "text": [
      "/opt/conda/lib/python3.10/site-packages/scipy/__init__.py:146: UserWarning: A NumPy version >=1.16.5 and <1.23.0 is required for this version of SciPy (detected version 1.23.5\n",
      "  warnings.warn(f\"A NumPy version >={np_minversion} and <{np_maxversion}\"\n"
     ]
    }
   ],
   "source": [
    "import pandas as pd\n",
    "import numpy as np\n",
    "\n",
    "import matplotlib.pyplot as plt\n",
    "\n",
    "from sklearn.model_selection import train_test_split\n",
    "from sklearn.linear_model import LinearRegression\n",
    "from sklearn.metrics import r2_score, mean_squared_error"
   ]
  },
  {
   "cell_type": "markdown",
   "id": "ff51f2b4",
   "metadata": {
    "papermill": {
     "duration": 0.008856,
     "end_time": "2023-07-25T22:06:36.621280",
     "exception": false,
     "start_time": "2023-07-25T22:06:36.612424",
     "status": "completed"
    },
    "tags": []
   },
   "source": [
    "### Coleta de Dados"
   ]
  },
  {
   "cell_type": "code",
   "execution_count": 2,
   "id": "669947c4",
   "metadata": {
    "execution": {
     "iopub.execute_input": "2023-07-25T22:06:36.641478Z",
     "iopub.status.busy": "2023-07-25T22:06:36.640481Z",
     "iopub.status.idle": "2023-07-25T22:06:45.763042Z",
     "shell.execute_reply": "2023-07-25T22:06:45.762118Z"
    },
    "papermill": {
     "duration": 9.135719,
     "end_time": "2023-07-25T22:06:45.765966",
     "exception": false,
     "start_time": "2023-07-25T22:06:36.630247",
     "status": "completed"
    },
    "tags": []
   },
   "outputs": [],
   "source": [
    "dados = pd.read_excel('/kaggle/input/pizza-sales/Data Model - Pizza Sales.xlsx',index_col=\"order_details_id\")"
   ]
  },
  {
   "cell_type": "markdown",
   "id": "4c9e36fa",
   "metadata": {
    "papermill": {
     "duration": 0.009114,
     "end_time": "2023-07-25T22:06:45.784638",
     "exception": false,
     "start_time": "2023-07-25T22:06:45.775524",
     "status": "completed"
    },
    "tags": []
   },
   "source": [
    "### Analise dos Dados"
   ]
  },
  {
   "cell_type": "code",
   "execution_count": 3,
   "id": "0462826b",
   "metadata": {
    "execution": {
     "iopub.execute_input": "2023-07-25T22:06:45.804920Z",
     "iopub.status.busy": "2023-07-25T22:06:45.804259Z",
     "iopub.status.idle": "2023-07-25T22:06:45.835831Z",
     "shell.execute_reply": "2023-07-25T22:06:45.834831Z"
    },
    "papermill": {
     "duration": 0.044437,
     "end_time": "2023-07-25T22:06:45.838311",
     "exception": false,
     "start_time": "2023-07-25T22:06:45.793874",
     "status": "completed"
    },
    "tags": []
   },
   "outputs": [
    {
     "data": {
      "text/html": [
       "<div>\n",
       "<style scoped>\n",
       "    .dataframe tbody tr th:only-of-type {\n",
       "        vertical-align: middle;\n",
       "    }\n",
       "\n",
       "    .dataframe tbody tr th {\n",
       "        vertical-align: top;\n",
       "    }\n",
       "\n",
       "    .dataframe thead th {\n",
       "        text-align: right;\n",
       "    }\n",
       "</style>\n",
       "<table border=\"1\" class=\"dataframe\">\n",
       "  <thead>\n",
       "    <tr style=\"text-align: right;\">\n",
       "      <th></th>\n",
       "      <th>order_id</th>\n",
       "      <th>pizza_id</th>\n",
       "      <th>quantity</th>\n",
       "      <th>order_date</th>\n",
       "      <th>order_time</th>\n",
       "      <th>unit_price</th>\n",
       "      <th>total_price</th>\n",
       "      <th>pizza_size</th>\n",
       "      <th>pizza_category</th>\n",
       "      <th>pizza_ingredients</th>\n",
       "      <th>pizza_name</th>\n",
       "    </tr>\n",
       "    <tr>\n",
       "      <th>order_details_id</th>\n",
       "      <th></th>\n",
       "      <th></th>\n",
       "      <th></th>\n",
       "      <th></th>\n",
       "      <th></th>\n",
       "      <th></th>\n",
       "      <th></th>\n",
       "      <th></th>\n",
       "      <th></th>\n",
       "      <th></th>\n",
       "      <th></th>\n",
       "    </tr>\n",
       "  </thead>\n",
       "  <tbody>\n",
       "    <tr>\n",
       "      <th>1</th>\n",
       "      <td>1</td>\n",
       "      <td>hawaiian_m</td>\n",
       "      <td>1</td>\n",
       "      <td>2015-01-01</td>\n",
       "      <td>11:38:36</td>\n",
       "      <td>13.25</td>\n",
       "      <td>13.25</td>\n",
       "      <td>M</td>\n",
       "      <td>Classic</td>\n",
       "      <td>Sliced Ham, Pineapple, Mozzarella Cheese</td>\n",
       "      <td>The Hawaiian Pizza</td>\n",
       "    </tr>\n",
       "    <tr>\n",
       "      <th>2</th>\n",
       "      <td>2</td>\n",
       "      <td>classic_dlx_m</td>\n",
       "      <td>1</td>\n",
       "      <td>2015-01-01</td>\n",
       "      <td>11:57:40</td>\n",
       "      <td>16.00</td>\n",
       "      <td>16.00</td>\n",
       "      <td>M</td>\n",
       "      <td>Classic</td>\n",
       "      <td>Pepperoni, Mushrooms, Red Onions, Red Peppers,...</td>\n",
       "      <td>The Classic Deluxe Pizza</td>\n",
       "    </tr>\n",
       "    <tr>\n",
       "      <th>3</th>\n",
       "      <td>2</td>\n",
       "      <td>five_cheese_l</td>\n",
       "      <td>1</td>\n",
       "      <td>2015-01-01</td>\n",
       "      <td>11:57:40</td>\n",
       "      <td>18.50</td>\n",
       "      <td>18.50</td>\n",
       "      <td>L</td>\n",
       "      <td>Veggie</td>\n",
       "      <td>Mozzarella Cheese, Provolone Cheese, Smoked Go...</td>\n",
       "      <td>The Five Cheese Pizza</td>\n",
       "    </tr>\n",
       "    <tr>\n",
       "      <th>4</th>\n",
       "      <td>2</td>\n",
       "      <td>ital_supr_l</td>\n",
       "      <td>1</td>\n",
       "      <td>2015-01-01</td>\n",
       "      <td>11:57:40</td>\n",
       "      <td>20.75</td>\n",
       "      <td>20.75</td>\n",
       "      <td>L</td>\n",
       "      <td>Supreme</td>\n",
       "      <td>Calabrese Salami, Capocollo, Tomatoes, Red Oni...</td>\n",
       "      <td>The Italian Supreme Pizza</td>\n",
       "    </tr>\n",
       "    <tr>\n",
       "      <th>5</th>\n",
       "      <td>2</td>\n",
       "      <td>mexicana_m</td>\n",
       "      <td>1</td>\n",
       "      <td>2015-01-01</td>\n",
       "      <td>11:57:40</td>\n",
       "      <td>16.00</td>\n",
       "      <td>16.00</td>\n",
       "      <td>M</td>\n",
       "      <td>Veggie</td>\n",
       "      <td>Tomatoes, Red Peppers, Jalapeno Peppers, Red O...</td>\n",
       "      <td>The Mexicana Pizza</td>\n",
       "    </tr>\n",
       "  </tbody>\n",
       "</table>\n",
       "</div>"
      ],
      "text/plain": [
       "                  order_id       pizza_id  quantity order_date order_time  \\\n",
       "order_details_id                                                            \n",
       "1                        1     hawaiian_m         1 2015-01-01   11:38:36   \n",
       "2                        2  classic_dlx_m         1 2015-01-01   11:57:40   \n",
       "3                        2  five_cheese_l         1 2015-01-01   11:57:40   \n",
       "4                        2    ital_supr_l         1 2015-01-01   11:57:40   \n",
       "5                        2     mexicana_m         1 2015-01-01   11:57:40   \n",
       "\n",
       "                  unit_price  total_price pizza_size pizza_category  \\\n",
       "order_details_id                                                      \n",
       "1                      13.25        13.25          M        Classic   \n",
       "2                      16.00        16.00          M        Classic   \n",
       "3                      18.50        18.50          L         Veggie   \n",
       "4                      20.75        20.75          L        Supreme   \n",
       "5                      16.00        16.00          M         Veggie   \n",
       "\n",
       "                                                  pizza_ingredients  \\\n",
       "order_details_id                                                      \n",
       "1                          Sliced Ham, Pineapple, Mozzarella Cheese   \n",
       "2                 Pepperoni, Mushrooms, Red Onions, Red Peppers,...   \n",
       "3                 Mozzarella Cheese, Provolone Cheese, Smoked Go...   \n",
       "4                 Calabrese Salami, Capocollo, Tomatoes, Red Oni...   \n",
       "5                 Tomatoes, Red Peppers, Jalapeno Peppers, Red O...   \n",
       "\n",
       "                                 pizza_name  \n",
       "order_details_id                             \n",
       "1                        The Hawaiian Pizza  \n",
       "2                  The Classic Deluxe Pizza  \n",
       "3                     The Five Cheese Pizza  \n",
       "4                 The Italian Supreme Pizza  \n",
       "5                        The Mexicana Pizza  "
      ]
     },
     "execution_count": 3,
     "metadata": {},
     "output_type": "execute_result"
    }
   ],
   "source": [
    "dados.head(5)"
   ]
  },
  {
   "cell_type": "code",
   "execution_count": 4,
   "id": "d27a99a7",
   "metadata": {
    "execution": {
     "iopub.execute_input": "2023-07-25T22:06:45.859580Z",
     "iopub.status.busy": "2023-07-25T22:06:45.859169Z",
     "iopub.status.idle": "2023-07-25T22:06:45.924885Z",
     "shell.execute_reply": "2023-07-25T22:06:45.923328Z"
    },
    "papermill": {
     "duration": 0.079386,
     "end_time": "2023-07-25T22:06:45.927222",
     "exception": false,
     "start_time": "2023-07-25T22:06:45.847836",
     "status": "completed"
    },
    "tags": []
   },
   "outputs": [
    {
     "name": "stdout",
     "output_type": "stream",
     "text": [
      "<class 'pandas.core.frame.DataFrame'>\n",
      "Int64Index: 48620 entries, 1 to 48620\n",
      "Data columns (total 11 columns):\n",
      " #   Column             Non-Null Count  Dtype         \n",
      "---  ------             --------------  -----         \n",
      " 0   order_id           48620 non-null  int64         \n",
      " 1   pizza_id           48620 non-null  object        \n",
      " 2   quantity           48620 non-null  int64         \n",
      " 3   order_date         48620 non-null  datetime64[ns]\n",
      " 4   order_time         48620 non-null  object        \n",
      " 5   unit_price         48620 non-null  float64       \n",
      " 6   total_price        48620 non-null  float64       \n",
      " 7   pizza_size         48620 non-null  object        \n",
      " 8   pizza_category     48620 non-null  object        \n",
      " 9   pizza_ingredients  48620 non-null  object        \n",
      " 10  pizza_name         48620 non-null  object        \n",
      "dtypes: datetime64[ns](1), float64(2), int64(2), object(6)\n",
      "memory usage: 4.5+ MB\n"
     ]
    }
   ],
   "source": [
    "#Observando os dados\n",
    "dados.info()"
   ]
  },
  {
   "cell_type": "code",
   "execution_count": 5,
   "id": "f11ec65c",
   "metadata": {
    "execution": {
     "iopub.execute_input": "2023-07-25T22:06:45.948123Z",
     "iopub.status.busy": "2023-07-25T22:06:45.947741Z",
     "iopub.status.idle": "2023-07-25T22:06:46.002717Z",
     "shell.execute_reply": "2023-07-25T22:06:46.001224Z"
    },
    "papermill": {
     "duration": 0.068037,
     "end_time": "2023-07-25T22:06:46.005007",
     "exception": false,
     "start_time": "2023-07-25T22:06:45.936970",
     "status": "completed"
    },
    "tags": []
   },
   "outputs": [
    {
     "name": "stdout",
     "output_type": "stream",
     "text": [
      "O dataset possui 48620 registros.\n",
      "O dataset possui 0 registros nulos.\n"
     ]
    }
   ],
   "source": [
    "#Números do dataset\n",
    "print(f\"O dataset possui {dados.shape[0]} registros.\")\n",
    "print(f\"O dataset possui {dados.isnull().sum().sum()} registros nulos.\")"
   ]
  },
  {
   "cell_type": "code",
   "execution_count": 6,
   "id": "8aad5bfc",
   "metadata": {
    "execution": {
     "iopub.execute_input": "2023-07-25T22:06:46.026245Z",
     "iopub.status.busy": "2023-07-25T22:06:46.025855Z",
     "iopub.status.idle": "2023-07-25T22:06:46.036370Z",
     "shell.execute_reply": "2023-07-25T22:06:46.035211Z"
    },
    "papermill": {
     "duration": 0.023557,
     "end_time": "2023-07-25T22:06:46.038356",
     "exception": false,
     "start_time": "2023-07-25T22:06:46.014799",
     "status": "completed"
    },
    "tags": []
   },
   "outputs": [
    {
     "name": "stdout",
     "output_type": "stream",
     "text": [
      "Foram realizado 21350 pedidos no período de 2015-01-01 e 2015-12-31.\n"
     ]
    }
   ],
   "source": [
    "#Numero de pedidos\n",
    "numero_pedidos = dados['order_id'].nunique()\n",
    "data_primeiro_pedido = dados['order_date'].iloc[0].date()\n",
    "data_ultimo_pedido = dados['order_date'].iloc[-1].date()\n",
    "\n",
    "print(f\"Foram realizado {numero_pedidos} pedidos no período de {data_primeiro_pedido} e {data_ultimo_pedido}.\")\n"
   ]
  },
  {
   "cell_type": "code",
   "execution_count": 7,
   "id": "102b34d0",
   "metadata": {
    "execution": {
     "iopub.execute_input": "2023-07-25T22:06:46.059898Z",
     "iopub.status.busy": "2023-07-25T22:06:46.059192Z",
     "iopub.status.idle": "2023-07-25T22:06:46.074622Z",
     "shell.execute_reply": "2023-07-25T22:06:46.073494Z"
    },
    "papermill": {
     "duration": 0.028643,
     "end_time": "2023-07-25T22:06:46.076771",
     "exception": false,
     "start_time": "2023-07-25T22:06:46.048128",
     "status": "completed"
    },
    "tags": []
   },
   "outputs": [
    {
     "data": {
      "text/plain": [
       "array(['The Hawaiian Pizza', 'The Classic Deluxe Pizza',\n",
       "       'The Five Cheese Pizza', 'The Italian Supreme Pizza',\n",
       "       'The Mexicana Pizza', 'The Thai Chicken Pizza',\n",
       "       'The Prosciutto and Arugula Pizza', 'The Barbecue Chicken Pizza',\n",
       "       'The Greek Pizza', 'The Spinach Supreme Pizza',\n",
       "       'The Green Garden Pizza', 'The Italian Capocollo Pizza',\n",
       "       'The Spicy Italian Pizza', 'The Spinach Pesto Pizza',\n",
       "       'The Vegetables + Vegetables Pizza', 'The Southwest Chicken Pizza',\n",
       "       'The California Chicken Pizza', 'The Pepperoni Pizza',\n",
       "       'The Chicken Pesto Pizza', 'The Big Meat Pizza',\n",
       "       'The Soppressata Pizza', 'The Four Cheese Pizza',\n",
       "       'The Napolitana Pizza', 'The Calabrese Pizza',\n",
       "       'The Italian Vegetables Pizza', 'The Mediterranean Pizza',\n",
       "       'The Pepper Salami Pizza', 'The Spinach and Feta Pizza',\n",
       "       'The Sicilian Pizza', 'The Chicken Alfredo Pizza',\n",
       "       'The Pepperoni, Mushroom, and Peppers Pizza',\n",
       "       'The Brie Carre Pizza'], dtype=object)"
      ]
     },
     "execution_count": 7,
     "metadata": {},
     "output_type": "execute_result"
    }
   ],
   "source": [
    "#Verificando os nomes das pizzas disponíveis.\n",
    "quantidade_cardapio = dados['pizza_name'].nunique()\n",
    "dados['pizza_name'].unique()"
   ]
  },
  {
   "cell_type": "code",
   "execution_count": 8,
   "id": "f421d46d",
   "metadata": {
    "execution": {
     "iopub.execute_input": "2023-07-25T22:06:46.097778Z",
     "iopub.status.busy": "2023-07-25T22:06:46.097389Z",
     "iopub.status.idle": "2023-07-25T22:06:46.102515Z",
     "shell.execute_reply": "2023-07-25T22:06:46.101471Z"
    },
    "papermill": {
     "duration": 0.018262,
     "end_time": "2023-07-25T22:06:46.104806",
     "exception": false,
     "start_time": "2023-07-25T22:06:46.086544",
     "status": "completed"
    },
    "tags": []
   },
   "outputs": [
    {
     "name": "stdout",
     "output_type": "stream",
     "text": [
      "Existem 32 tipos de produtos.\n"
     ]
    }
   ],
   "source": [
    "print(f\"Existem {quantidade_cardapio} tipos de produtos.\")"
   ]
  },
  {
   "cell_type": "code",
   "execution_count": 9,
   "id": "18df09bb",
   "metadata": {
    "execution": {
     "iopub.execute_input": "2023-07-25T22:06:46.126180Z",
     "iopub.status.busy": "2023-07-25T22:06:46.125552Z",
     "iopub.status.idle": "2023-07-25T22:06:46.136914Z",
     "shell.execute_reply": "2023-07-25T22:06:46.135853Z"
    },
    "papermill": {
     "duration": 0.024257,
     "end_time": "2023-07-25T22:06:46.138885",
     "exception": false,
     "start_time": "2023-07-25T22:06:46.114628",
     "status": "completed"
    },
    "tags": []
   },
   "outputs": [
    {
     "data": {
      "text/plain": [
       "array(['M', 'L', 'S', 'XL', 'XXL'], dtype=object)"
      ]
     },
     "execution_count": 9,
     "metadata": {},
     "output_type": "execute_result"
    }
   ],
   "source": [
    "#Verificando os tamanhos das pizzas disponíveis.\n",
    "tamanho_produtos = dados['pizza_size'].nunique()\n",
    "dados['pizza_size'].unique()"
   ]
  },
  {
   "cell_type": "markdown",
   "id": "84f93a73",
   "metadata": {
    "papermill": {
     "duration": 0.009923,
     "end_time": "2023-07-25T22:06:46.158611",
     "exception": false,
     "start_time": "2023-07-25T22:06:46.148688",
     "status": "completed"
    },
    "tags": []
   },
   "source": [
    "### Ajuste de Dados"
   ]
  },
  {
   "cell_type": "code",
   "execution_count": 10,
   "id": "1bda8cca",
   "metadata": {
    "execution": {
     "iopub.execute_input": "2023-07-25T22:06:46.179897Z",
     "iopub.status.busy": "2023-07-25T22:06:46.179543Z",
     "iopub.status.idle": "2023-07-25T22:06:46.253540Z",
     "shell.execute_reply": "2023-07-25T22:06:46.252532Z"
    },
    "papermill": {
     "duration": 0.08796,
     "end_time": "2023-07-25T22:06:46.256231",
     "exception": false,
     "start_time": "2023-07-25T22:06:46.168271",
     "status": "completed"
    },
    "tags": []
   },
   "outputs": [
    {
     "name": "stdout",
     "output_type": "stream",
     "text": [
      "['11' '12' '13' '14' '15' '16' '17' '18' '19' '20' '21' '22' '23' '10'\n",
      " '09']\n"
     ]
    }
   ],
   "source": [
    "#Verificando os horários de atendimento\n",
    "dados['order_time'] = dados['order_time'].astype(str)\n",
    "dados['hora'] = dados['order_time'].apply(lambda x: x[:2])\n",
    "valores_unicos_order_time = dados['hora'].unique()\n",
    "\n",
    "print(valores_unicos_order_time)"
   ]
  },
  {
   "cell_type": "code",
   "execution_count": 11,
   "id": "8b4e6ca5",
   "metadata": {
    "execution": {
     "iopub.execute_input": "2023-07-25T22:06:46.279107Z",
     "iopub.status.busy": "2023-07-25T22:06:46.278651Z",
     "iopub.status.idle": "2023-07-25T22:06:46.293674Z",
     "shell.execute_reply": "2023-07-25T22:06:46.292724Z"
    },
    "papermill": {
     "duration": 0.029304,
     "end_time": "2023-07-25T22:06:46.296028",
     "exception": false,
     "start_time": "2023-07-25T22:06:46.266724",
     "status": "completed"
    },
    "tags": []
   },
   "outputs": [],
   "source": [
    "#Criando coluna com os dias da semana\n",
    "dados['dia_semana'] = dados['order_date'].dt.dayofweek\n",
    "\n",
    "dias_da_semana = {\n",
    "    0: 'Segunda',\n",
    "    1: 'Terça',\n",
    "    2: 'Quarta',\n",
    "    3: 'Quinta',\n",
    "    4: 'Sexta',\n",
    "    5: 'Sábado',\n",
    "    6: 'Domingo'\n",
    "}\n",
    "\n",
    "dados['dia_semana'] = dados['dia_semana'].map(dias_da_semana)"
   ]
  },
  {
   "cell_type": "markdown",
   "id": "e40d6528",
   "metadata": {
    "papermill": {
     "duration": 0.009967,
     "end_time": "2023-07-25T22:06:46.316333",
     "exception": false,
     "start_time": "2023-07-25T22:06:46.306366",
     "status": "completed"
    },
    "tags": []
   },
   "source": [
    "#### Agrupando por dia da semana"
   ]
  },
  {
   "cell_type": "code",
   "execution_count": 12,
   "id": "d2bfc6a6",
   "metadata": {
    "execution": {
     "iopub.execute_input": "2023-07-25T22:06:46.338670Z",
     "iopub.status.busy": "2023-07-25T22:06:46.338259Z",
     "iopub.status.idle": "2023-07-25T22:06:46.348341Z",
     "shell.execute_reply": "2023-07-25T22:06:46.347334Z"
    },
    "papermill": {
     "duration": 0.023857,
     "end_time": "2023-07-25T22:06:46.350416",
     "exception": false,
     "start_time": "2023-07-25T22:06:46.326559",
     "status": "completed"
    },
    "tags": []
   },
   "outputs": [
    {
     "data": {
      "text/plain": [
       "array(['Quinta', 'Sexta', 'Sábado', 'Domingo', 'Segunda', 'Terça',\n",
       "       'Quarta'], dtype=object)"
      ]
     },
     "execution_count": 12,
     "metadata": {},
     "output_type": "execute_result"
    }
   ],
   "source": [
    "#Verificando dias da Semana\n",
    "dias_semana = dados['dia_semana'].unique()\n",
    "dias_semana"
   ]
  },
  {
   "cell_type": "code",
   "execution_count": 13,
   "id": "cd39ed3c",
   "metadata": {
    "execution": {
     "iopub.execute_input": "2023-07-25T22:06:46.372197Z",
     "iopub.status.busy": "2023-07-25T22:06:46.371831Z",
     "iopub.status.idle": "2023-07-25T22:06:46.423938Z",
     "shell.execute_reply": "2023-07-25T22:06:46.423103Z"
    },
    "papermill": {
     "duration": 0.066008,
     "end_time": "2023-07-25T22:06:46.426521",
     "exception": false,
     "start_time": "2023-07-25T22:06:46.360513",
     "status": "completed"
    },
    "tags": []
   },
   "outputs": [],
   "source": [
    "#Separando por dia da Semana\n",
    "segunda_feira = dados.query(\"dia_semana == 'Segunda'\")\n",
    "terca_feira = dados.query(\"dia_semana == 'Terça'\")\n",
    "quarta_feira = dados.query(\"dia_semana == 'Quarta'\")\n",
    "quinta_feira = dados.query(\"dia_semana == 'Quinta'\")\n",
    "sexta_feira = dados.query(\"dia_semana == 'Sexta'\")\n",
    "sabado = dados.query(\"dia_semana == 'Sábado'\")\n",
    "domingo = dados.query(\"dia_semana == 'Domingo'\")"
   ]
  },
  {
   "cell_type": "markdown",
   "id": "268e1c3b",
   "metadata": {
    "papermill": {
     "duration": 0.010084,
     "end_time": "2023-07-25T22:06:46.447178",
     "exception": false,
     "start_time": "2023-07-25T22:06:46.437094",
     "status": "completed"
    },
    "tags": []
   },
   "source": [
    "### Ajsutando Ingredientes"
   ]
  },
  {
   "cell_type": "code",
   "execution_count": 14,
   "id": "9626dcdd",
   "metadata": {
    "execution": {
     "iopub.execute_input": "2023-07-25T22:06:46.474005Z",
     "iopub.status.busy": "2023-07-25T22:06:46.473157Z",
     "iopub.status.idle": "2023-07-25T22:06:46.485218Z",
     "shell.execute_reply": "2023-07-25T22:06:46.484446Z"
    },
    "papermill": {
     "duration": 0.029904,
     "end_time": "2023-07-25T22:06:46.487150",
     "exception": false,
     "start_time": "2023-07-25T22:06:46.457246",
     "status": "completed"
    },
    "tags": []
   },
   "outputs": [],
   "source": [
    "lista_ingredientes = dados['pizza_ingredients'].unique()"
   ]
  },
  {
   "cell_type": "code",
   "execution_count": 15,
   "id": "68fb6e40",
   "metadata": {
    "execution": {
     "iopub.execute_input": "2023-07-25T22:06:46.517040Z",
     "iopub.status.busy": "2023-07-25T22:06:46.516669Z",
     "iopub.status.idle": "2023-07-25T22:06:46.523310Z",
     "shell.execute_reply": "2023-07-25T22:06:46.522036Z"
    },
    "papermill": {
     "duration": 0.024633,
     "end_time": "2023-07-25T22:06:46.525863",
     "exception": false,
     "start_time": "2023-07-25T22:06:46.501230",
     "status": "completed"
    },
    "tags": []
   },
   "outputs": [],
   "source": [
    "ingredientes_unicos = []\n",
    "\n",
    "for i in lista_ingredientes:\n",
    "    ingredientes = [ingrediente.strip() for ingrediente in i.replace(\"\",'').split(\",\")]\n",
    "    \n",
    "    for x in ingredientes:\n",
    "        if x not in ingredientes_unicos:\n",
    "            ingredientes_unicos.append(x)\n",
    "            \n",
    "ingredientes_unicos.sort()"
   ]
  },
  {
   "cell_type": "code",
   "execution_count": 16,
   "id": "0abb7a60",
   "metadata": {
    "execution": {
     "iopub.execute_input": "2023-07-25T22:06:46.554055Z",
     "iopub.status.busy": "2023-07-25T22:06:46.553100Z",
     "iopub.status.idle": "2023-07-25T22:06:46.558518Z",
     "shell.execute_reply": "2023-07-25T22:06:46.557833Z"
    },
    "papermill": {
     "duration": 0.022858,
     "end_time": "2023-07-25T22:06:46.560286",
     "exception": false,
     "start_time": "2023-07-25T22:06:46.537428",
     "status": "completed"
    },
    "tags": []
   },
   "outputs": [],
   "source": [
    "#Função que gera o valor da massa utilizada\n",
    "def massa(size):\n",
    "    \n",
    "    if size == 'XXL':\n",
    "        return 1.00\n",
    "    \n",
    "    elif size == 'XL':\n",
    "        return 0.75\n",
    "        \n",
    "    elif size == 'L':\n",
    "        return 0.50\n",
    "        \n",
    "    elif size == 'M':\n",
    "        return 0.25\n",
    "    \n",
    "    elif size == 'S':\n",
    "        return 0.10\n",
    "    \n",
    "    else:\n",
    "        return 0"
   ]
  },
  {
   "cell_type": "code",
   "execution_count": 17,
   "id": "d01744bc",
   "metadata": {
    "execution": {
     "iopub.execute_input": "2023-07-25T22:06:46.582278Z",
     "iopub.status.busy": "2023-07-25T22:06:46.581896Z",
     "iopub.status.idle": "2023-07-25T22:06:46.604733Z",
     "shell.execute_reply": "2023-07-25T22:06:46.603679Z"
    },
    "papermill": {
     "duration": 0.036528,
     "end_time": "2023-07-25T22:06:46.607072",
     "exception": false,
     "start_time": "2023-07-25T22:06:46.570544",
     "status": "completed"
    },
    "tags": []
   },
   "outputs": [],
   "source": [
    "#Aplicando a função massa\n",
    "dados['Massa'] = dados['pizza_size'].apply(massa)\n",
    "df2 = dados"
   ]
  },
  {
   "cell_type": "code",
   "execution_count": 18,
   "id": "20ea503f",
   "metadata": {
    "execution": {
     "iopub.execute_input": "2023-07-25T22:06:46.628960Z",
     "iopub.status.busy": "2023-07-25T22:06:46.628603Z",
     "iopub.status.idle": "2023-07-25T22:06:46.674637Z",
     "shell.execute_reply": "2023-07-25T22:06:46.673478Z"
    },
    "papermill": {
     "duration": 0.060087,
     "end_time": "2023-07-25T22:06:46.677443",
     "exception": false,
     "start_time": "2023-07-25T22:06:46.617356",
     "status": "completed"
    },
    "tags": []
   },
   "outputs": [],
   "source": [
    "#Criando novo dataframe com todos os ingredientes\n",
    "ingredientes_db = pd.DataFrame(0, index=df2.index, columns=ingredientes_unicos)\n",
    "\n",
    "\n",
    "#Concatenado dataframes\n",
    "df = pd.concat([df2, ingredientes_db], axis=1)"
   ]
  },
  {
   "cell_type": "code",
   "execution_count": 19,
   "id": "2b7ecfac",
   "metadata": {
    "execution": {
     "iopub.execute_input": "2023-07-25T22:06:46.699799Z",
     "iopub.status.busy": "2023-07-25T22:06:46.699414Z",
     "iopub.status.idle": "2023-07-25T22:06:46.706702Z",
     "shell.execute_reply": "2023-07-25T22:06:46.705390Z"
    },
    "papermill": {
     "duration": 0.020756,
     "end_time": "2023-07-25T22:06:46.708688",
     "exception": false,
     "start_time": "2023-07-25T22:06:46.687932",
     "status": "completed"
    },
    "tags": []
   },
   "outputs": [
    {
     "data": {
      "text/plain": [
       "Index(['order_id', 'pizza_id', 'quantity', 'order_date', 'order_time',\n",
       "       'unit_price', 'total_price', 'pizza_size', 'pizza_category',\n",
       "       'pizza_ingredients', 'pizza_name', 'hora', 'dia_semana', 'Massa',\n",
       "       'Alfredo Sauce', 'Anchovies', 'Artichoke', 'Artichokes', 'Arugula',\n",
       "       'Asiago Cheese', 'Bacon', 'Barbecue Sauce', 'Barbecued Chicken',\n",
       "       'Beef Chuck Roast', 'Blue Cheese', 'Brie Carre Cheese',\n",
       "       'Calabrese Salami', 'Capocollo', 'Caramelized Onions', 'Chicken',\n",
       "       'Chipotle Sauce', 'Chorizo Sausage', 'Cilantro',\n",
       "       'Coarse Sicilian Salami', 'Corn', 'Eggplant', 'Feta Cheese',\n",
       "       'Fontina Cheese', 'Friggitello Peppers', 'Garlic', 'Genoa Salami',\n",
       "       'Goat Cheese', 'Gorgonzola Piccante Cheese', 'Gouda Cheese',\n",
       "       'Green Olives', 'Green Peppers', 'Italian Sausage', 'Jalapeno Peppers',\n",
       "       'Kalamata Olives', 'Luganega Sausage', 'Mozzarella Cheese', 'Mushrooms',\n",
       "       'Onions', 'Oregano', 'Pancetta', 'Parmigiano Reggiano Cheese', 'Pears',\n",
       "       'Peperoncini verdi', 'Pepperoni', 'Pesto Sauce', 'Pineapple',\n",
       "       'Plum Tomatoes', 'Prosciutto', 'Prosciutto di San Daniele',\n",
       "       'Provolone Cheese', 'Red Onions', 'Red Peppers', 'Ricotta Cheese',\n",
       "       'Romano Cheese', 'Sliced Ham', 'Smoked Gouda Cheese',\n",
       "       'Soppressata Salami', 'Spinach', 'Sun-dried Tomatoes',\n",
       "       'Thai Sweet Chilli Sauce', 'Thyme', 'Tomatoes', 'Zucchini',\n",
       "       '慛duja Salami'],\n",
       "      dtype='object')"
      ]
     },
     "execution_count": 19,
     "metadata": {},
     "output_type": "execute_result"
    }
   ],
   "source": [
    "df.columns"
   ]
  },
  {
   "cell_type": "code",
   "execution_count": 20,
   "id": "ae735388",
   "metadata": {
    "execution": {
     "iopub.execute_input": "2023-07-25T22:06:46.731143Z",
     "iopub.status.busy": "2023-07-25T22:06:46.730777Z",
     "iopub.status.idle": "2023-07-25T22:06:46.736393Z",
     "shell.execute_reply": "2023-07-25T22:06:46.735426Z"
    },
    "papermill": {
     "duration": 0.019358,
     "end_time": "2023-07-25T22:06:46.738345",
     "exception": false,
     "start_time": "2023-07-25T22:06:46.718987",
     "status": "completed"
    },
    "tags": []
   },
   "outputs": [],
   "source": [
    "#Função para preencher as colunas de ingredientes\n",
    "def atualizar_colunas_por_ingredientes(df, ingredientes):\n",
    "    for index, row in df.iterrows():\n",
    "        if pd.notna(row['pizza_ingredients']):\n",
    "            ingredientes_pizza = row['pizza_ingredients'].split(', ')\n",
    "            for ingrediente in ingredientes_pizza:\n",
    "                df.loc[index, ingrediente] = int(1)\n",
    "    return df"
   ]
  },
  {
   "cell_type": "code",
   "execution_count": 21,
   "id": "181a3845",
   "metadata": {
    "execution": {
     "iopub.execute_input": "2023-07-25T22:06:46.761049Z",
     "iopub.status.busy": "2023-07-25T22:06:46.760643Z",
     "iopub.status.idle": "2023-07-25T22:07:20.128348Z",
     "shell.execute_reply": "2023-07-25T22:07:20.127527Z"
    },
    "papermill": {
     "duration": 33.382171,
     "end_time": "2023-07-25T22:07:20.131021",
     "exception": false,
     "start_time": "2023-07-25T22:06:46.748850",
     "status": "completed"
    },
    "tags": []
   },
   "outputs": [],
   "source": [
    "df = atualizar_colunas_por_ingredientes(df, ingredientes_unicos)"
   ]
  },
  {
   "cell_type": "markdown",
   "id": "572634e4",
   "metadata": {
    "papermill": {
     "duration": 0.00992,
     "end_time": "2023-07-25T22:07:20.151790",
     "exception": false,
     "start_time": "2023-07-25T22:07:20.141870",
     "status": "completed"
    },
    "tags": []
   },
   "source": [
    "## Criando Nova DataFrame"
   ]
  },
  {
   "cell_type": "code",
   "execution_count": 22,
   "id": "efb7188a",
   "metadata": {
    "execution": {
     "iopub.execute_input": "2023-07-25T22:07:20.174370Z",
     "iopub.status.busy": "2023-07-25T22:07:20.173425Z",
     "iopub.status.idle": "2023-07-25T22:07:20.204426Z",
     "shell.execute_reply": "2023-07-25T22:07:20.203303Z"
    },
    "papermill": {
     "duration": 0.045351,
     "end_time": "2023-07-25T22:07:20.207221",
     "exception": false,
     "start_time": "2023-07-25T22:07:20.161870",
     "status": "completed"
    },
    "tags": []
   },
   "outputs": [],
   "source": [
    "colunas_selecionadas = ['quantity', 'hora', 'dia_semana', 'Massa',\n",
    "       'Alfredo Sauce', 'Anchovies', 'Artichoke', 'Artichokes', 'Arugula',\n",
    "       'Asiago Cheese', 'Bacon', 'Barbecue Sauce', 'Barbecued Chicken',\n",
    "       'Beef Chuck Roast', 'Blue Cheese', 'Brie Carre Cheese',\n",
    "       'Calabrese Salami', 'Capocollo', 'Caramelized Onions', 'Chicken',\n",
    "       'Chipotle Sauce', 'Chorizo Sausage', 'Cilantro',\n",
    "       'Coarse Sicilian Salami', 'Corn', 'Eggplant', 'Feta Cheese',\n",
    "       'Fontina Cheese', 'Friggitello Peppers', 'Garlic', 'Genoa Salami',\n",
    "       'Goat Cheese', 'Gorgonzola Piccante Cheese', 'Gouda Cheese',\n",
    "       'Green Olives', 'Green Peppers', 'Italian Sausage', 'Jalapeno Peppers',\n",
    "       'Kalamata Olives', 'Luganega Sausage', 'Mozzarella Cheese', 'Mushrooms',\n",
    "       'Onions', 'Oregano', 'Pancetta', 'Parmigiano Reggiano Cheese', 'Pears',\n",
    "       'Peperoncini verdi', 'Pepperoni', 'Pesto Sauce', 'Pineapple',\n",
    "       'Plum Tomatoes', 'Prosciutto', 'Prosciutto di San Daniele',\n",
    "       'Provolone Cheese', 'Red Onions', 'Red Peppers', 'Ricotta Cheese',\n",
    "       'Romano Cheese', 'Sliced Ham', 'Smoked Gouda Cheese',\n",
    "       'Soppressata Salami', 'Spinach', 'Sun-dried Tomatoes',\n",
    "       'Thai Sweet Chilli Sauce', 'Thyme', 'Tomatoes', 'Zucchini',\n",
    "       '慛duja Salami']\n",
    "\n",
    "novo_df = df[colunas_selecionadas].copy()"
   ]
  },
  {
   "cell_type": "code",
   "execution_count": 23,
   "id": "0f6a6121",
   "metadata": {
    "execution": {
     "iopub.execute_input": "2023-07-25T22:07:20.230110Z",
     "iopub.status.busy": "2023-07-25T22:07:20.229717Z",
     "iopub.status.idle": "2023-07-25T22:07:20.235088Z",
     "shell.execute_reply": "2023-07-25T22:07:20.234071Z"
    },
    "papermill": {
     "duration": 0.019197,
     "end_time": "2023-07-25T22:07:20.237262",
     "exception": false,
     "start_time": "2023-07-25T22:07:20.218065",
     "status": "completed"
    },
    "tags": []
   },
   "outputs": [],
   "source": [
    "novo_df['quantidade'] = 0"
   ]
  },
  {
   "cell_type": "code",
   "execution_count": 24,
   "id": "92bd1742",
   "metadata": {
    "execution": {
     "iopub.execute_input": "2023-07-25T22:07:20.259688Z",
     "iopub.status.busy": "2023-07-25T22:07:20.259308Z",
     "iopub.status.idle": "2023-07-25T22:07:20.345083Z",
     "shell.execute_reply": "2023-07-25T22:07:20.344160Z"
    },
    "papermill": {
     "duration": 0.100035,
     "end_time": "2023-07-25T22:07:20.347690",
     "exception": false,
     "start_time": "2023-07-25T22:07:20.247655",
     "status": "completed"
    },
    "tags": []
   },
   "outputs": [],
   "source": [
    "# Converter a coluna \"dia_semana\" em codificação one-hot\n",
    "novo_df = pd.get_dummies(novo_df, columns=['dia_semana'], drop_first=True)\n",
    "novo_df = pd.get_dummies(novo_df, columns=['Massa'], drop_first=True)\n"
   ]
  },
  {
   "cell_type": "code",
   "execution_count": 25,
   "id": "2083a0ec",
   "metadata": {
    "execution": {
     "iopub.execute_input": "2023-07-25T22:07:20.371626Z",
     "iopub.status.busy": "2023-07-25T22:07:20.371210Z",
     "iopub.status.idle": "2023-07-25T22:07:20.378302Z",
     "shell.execute_reply": "2023-07-25T22:07:20.377270Z"
    },
    "papermill": {
     "duration": 0.021533,
     "end_time": "2023-07-25T22:07:20.380476",
     "exception": false,
     "start_time": "2023-07-25T22:07:20.358943",
     "status": "completed"
    },
    "tags": []
   },
   "outputs": [
    {
     "data": {
      "text/plain": [
       "Index(['quantity', 'hora', 'Alfredo Sauce', 'Anchovies', 'Artichoke',\n",
       "       'Artichokes', 'Arugula', 'Asiago Cheese', 'Bacon', 'Barbecue Sauce',\n",
       "       'Barbecued Chicken', 'Beef Chuck Roast', 'Blue Cheese',\n",
       "       'Brie Carre Cheese', 'Calabrese Salami', 'Capocollo',\n",
       "       'Caramelized Onions', 'Chicken', 'Chipotle Sauce', 'Chorizo Sausage',\n",
       "       'Cilantro', 'Coarse Sicilian Salami', 'Corn', 'Eggplant', 'Feta Cheese',\n",
       "       'Fontina Cheese', 'Friggitello Peppers', 'Garlic', 'Genoa Salami',\n",
       "       'Goat Cheese', 'Gorgonzola Piccante Cheese', 'Gouda Cheese',\n",
       "       'Green Olives', 'Green Peppers', 'Italian Sausage', 'Jalapeno Peppers',\n",
       "       'Kalamata Olives', 'Luganega Sausage', 'Mozzarella Cheese', 'Mushrooms',\n",
       "       'Onions', 'Oregano', 'Pancetta', 'Parmigiano Reggiano Cheese', 'Pears',\n",
       "       'Peperoncini verdi', 'Pepperoni', 'Pesto Sauce', 'Pineapple',\n",
       "       'Plum Tomatoes', 'Prosciutto', 'Prosciutto di San Daniele',\n",
       "       'Provolone Cheese', 'Red Onions', 'Red Peppers', 'Ricotta Cheese',\n",
       "       'Romano Cheese', 'Sliced Ham', 'Smoked Gouda Cheese',\n",
       "       'Soppressata Salami', 'Spinach', 'Sun-dried Tomatoes',\n",
       "       'Thai Sweet Chilli Sauce', 'Thyme', 'Tomatoes', 'Zucchini',\n",
       "       '慛duja Salami', 'quantidade', 'dia_semana_Quarta', 'dia_semana_Quinta',\n",
       "       'dia_semana_Segunda', 'dia_semana_Sexta', 'dia_semana_Sábado',\n",
       "       'dia_semana_Terça', 'Massa_0.25', 'Massa_0.5', 'Massa_0.75',\n",
       "       'Massa_1.0'],\n",
       "      dtype='object')"
      ]
     },
     "execution_count": 25,
     "metadata": {},
     "output_type": "execute_result"
    }
   ],
   "source": [
    "novo_df.columns"
   ]
  },
  {
   "cell_type": "markdown",
   "id": "eaa7e7ff",
   "metadata": {
    "papermill": {
     "duration": 0.010229,
     "end_time": "2023-07-25T22:07:20.401362",
     "exception": false,
     "start_time": "2023-07-25T22:07:20.391133",
     "status": "completed"
    },
    "tags": []
   },
   "source": [
    "### Machine Learning"
   ]
  },
  {
   "cell_type": "code",
   "execution_count": 26,
   "id": "289d1483",
   "metadata": {
    "execution": {
     "iopub.execute_input": "2023-07-25T22:07:20.424131Z",
     "iopub.status.busy": "2023-07-25T22:07:20.423761Z",
     "iopub.status.idle": "2023-07-25T22:07:20.436925Z",
     "shell.execute_reply": "2023-07-25T22:07:20.435900Z"
    },
    "papermill": {
     "duration": 0.027316,
     "end_time": "2023-07-25T22:07:20.439117",
     "exception": false,
     "start_time": "2023-07-25T22:07:20.411801",
     "status": "completed"
    },
    "tags": []
   },
   "outputs": [],
   "source": [
    "# Separar os dados em variáveis independentes (X) e variável dependente (y)\n",
    "X = novo_df.drop(columns=['quantidade'])  # DataFrame X contendo todas as colunas exceto 'quantidade'\n",
    "y = novo_df['quantidade']  # Série y contendo a coluna 'quantidade'"
   ]
  },
  {
   "cell_type": "code",
   "execution_count": 27,
   "id": "d64e5771",
   "metadata": {
    "execution": {
     "iopub.execute_input": "2023-07-25T22:07:20.462632Z",
     "iopub.status.busy": "2023-07-25T22:07:20.462242Z",
     "iopub.status.idle": "2023-07-25T22:07:20.506905Z",
     "shell.execute_reply": "2023-07-25T22:07:20.505796Z"
    },
    "papermill": {
     "duration": 0.059411,
     "end_time": "2023-07-25T22:07:20.509695",
     "exception": false,
     "start_time": "2023-07-25T22:07:20.450284",
     "status": "completed"
    },
    "tags": []
   },
   "outputs": [],
   "source": [
    "# Dividir os dados em conjuntos de treinamento e teste (por exemplo, 80% para treinamento, 20% para teste)\n",
    "X_train, X_test, y_train, y_test = train_test_split(X, y, test_size=0.2, random_state=42)"
   ]
  },
  {
   "cell_type": "code",
   "execution_count": 28,
   "id": "c929dbdf",
   "metadata": {
    "execution": {
     "iopub.execute_input": "2023-07-25T22:07:20.533217Z",
     "iopub.status.busy": "2023-07-25T22:07:20.532822Z",
     "iopub.status.idle": "2023-07-25T22:07:21.023551Z",
     "shell.execute_reply": "2023-07-25T22:07:21.022493Z"
    },
    "papermill": {
     "duration": 0.505695,
     "end_time": "2023-07-25T22:07:21.026474",
     "exception": false,
     "start_time": "2023-07-25T22:07:20.520779",
     "status": "completed"
    },
    "tags": []
   },
   "outputs": [
    {
     "name": "stdout",
     "output_type": "stream",
     "text": [
      "Coeficiente de Determinação (R²): 1.0\n",
      "Erro Médio Quadrático (MSE): 0.0\n"
     ]
    }
   ],
   "source": [
    "# Criar o modelo de Regressão Linear\n",
    "modelo = LinearRegression()\n",
    "\n",
    "# Treinar o modelo usando os dados de treinamento\n",
    "modelo.fit(X_train, y_train)\n",
    "\n",
    "# Fazer previsões usando o modelo treinado nos dados de teste\n",
    "previsoes = modelo.predict(X_test)\n",
    "\n",
    "# Avaliar o desempenho do modelo\n",
    "r2 = r2_score(y_test, previsoes)\n",
    "mse = mean_squared_error(y_test, previsoes)\n",
    "\n",
    "print(\"Coeficiente de Determinação (R²):\", r2)\n",
    "print(\"Erro Médio Quadrático (MSE):\", mse)"
   ]
  },
  {
   "cell_type": "markdown",
   "id": "757936a9",
   "metadata": {
    "papermill": {
     "duration": 0.017704,
     "end_time": "2023-07-25T22:07:21.066845",
     "exception": false,
     "start_time": "2023-07-25T22:07:21.049141",
     "status": "completed"
    },
    "tags": []
   },
   "source": [
    "### Criando sistema de Análise"
   ]
  },
  {
   "cell_type": "code",
   "execution_count": null,
   "id": "2725bc35",
   "metadata": {
    "papermill": {
     "duration": 0.017188,
     "end_time": "2023-07-25T22:07:21.102085",
     "exception": false,
     "start_time": "2023-07-25T22:07:21.084897",
     "status": "completed"
    },
    "tags": []
   },
   "outputs": [],
   "source": []
  },
  {
   "cell_type": "code",
   "execution_count": 29,
   "id": "d77e819a",
   "metadata": {
    "execution": {
     "iopub.execute_input": "2023-07-25T22:07:21.139499Z",
     "iopub.status.busy": "2023-07-25T22:07:21.138781Z",
     "iopub.status.idle": "2023-07-25T22:07:21.155721Z",
     "shell.execute_reply": "2023-07-25T22:07:21.154745Z"
    },
    "papermill": {
     "duration": 0.03807,
     "end_time": "2023-07-25T22:07:21.157768",
     "exception": false,
     "start_time": "2023-07-25T22:07:21.119698",
     "status": "completed"
    },
    "tags": []
   },
   "outputs": [
    {
     "data": {
      "text/html": [
       "<div>\n",
       "<style scoped>\n",
       "    .dataframe tbody tr th:only-of-type {\n",
       "        vertical-align: middle;\n",
       "    }\n",
       "\n",
       "    .dataframe tbody tr th {\n",
       "        vertical-align: top;\n",
       "    }\n",
       "\n",
       "    .dataframe thead th {\n",
       "        text-align: right;\n",
       "    }\n",
       "</style>\n",
       "<table border=\"1\" class=\"dataframe\">\n",
       "  <thead>\n",
       "    <tr style=\"text-align: right;\">\n",
       "      <th></th>\n",
       "      <th>quantity</th>\n",
       "      <th>hora</th>\n",
       "      <th>dia_semana</th>\n",
       "      <th>Massa</th>\n",
       "      <th>Alfredo Sauce</th>\n",
       "      <th>Anchovies</th>\n",
       "      <th>Artichoke</th>\n",
       "      <th>Artichokes</th>\n",
       "      <th>Arugula</th>\n",
       "      <th>Asiago Cheese</th>\n",
       "      <th>...</th>\n",
       "      <th>Sliced Ham</th>\n",
       "      <th>Smoked Gouda Cheese</th>\n",
       "      <th>Soppressata Salami</th>\n",
       "      <th>Spinach</th>\n",
       "      <th>Sun-dried Tomatoes</th>\n",
       "      <th>Thai Sweet Chilli Sauce</th>\n",
       "      <th>Thyme</th>\n",
       "      <th>Tomatoes</th>\n",
       "      <th>Zucchini</th>\n",
       "      <th>慛duja Salami</th>\n",
       "    </tr>\n",
       "  </thead>\n",
       "  <tbody>\n",
       "  </tbody>\n",
       "</table>\n",
       "<p>0 rows × 69 columns</p>\n",
       "</div>"
      ],
      "text/plain": [
       "Empty DataFrame\n",
       "Columns: [quantity, hora, dia_semana, Massa, Alfredo Sauce, Anchovies, Artichoke, Artichokes, Arugula, Asiago Cheese, Bacon, Barbecue Sauce, Barbecued Chicken, Beef Chuck Roast, Blue Cheese, Brie Carre Cheese, Calabrese Salami, Capocollo, Caramelized Onions, Chicken, Chipotle Sauce, Chorizo Sausage, Cilantro, Coarse Sicilian Salami, Corn, Eggplant, Feta Cheese, Fontina Cheese, Friggitello Peppers, Garlic, Genoa Salami, Goat Cheese, Gorgonzola Piccante Cheese, Gouda Cheese, Green Olives, Green Peppers, Italian Sausage, Jalapeno Peppers, Kalamata Olives, Luganega Sausage, Mozzarella Cheese, Mushrooms, Onions, Oregano, Pancetta, Parmigiano Reggiano Cheese, Pears, Peperoncini verdi, Pepperoni, Pesto Sauce, Pineapple, Plum Tomatoes, Prosciutto, Prosciutto di San Daniele, Provolone Cheese, Red Onions, Red Peppers, Ricotta Cheese, Romano Cheese, Sliced Ham, Smoked Gouda Cheese, Soppressata Salami, Spinach, Sun-dried Tomatoes, Thai Sweet Chilli Sauce, Thyme, Tomatoes, Zucchini, 慛duja Salami]\n",
       "Index: []\n",
       "\n",
       "[0 rows x 69 columns]"
      ]
     },
     "execution_count": 29,
     "metadata": {},
     "output_type": "execute_result"
    }
   ],
   "source": [
    "consulta = pd.DataFrame(columns=colunas_selecionadas)\n",
    "consulta"
   ]
  },
  {
   "cell_type": "markdown",
   "id": "ab39598e",
   "metadata": {
    "papermill": {
     "duration": 0.010668,
     "end_time": "2023-07-25T22:07:21.179388",
     "exception": false,
     "start_time": "2023-07-25T22:07:21.168720",
     "status": "completed"
    },
    "tags": []
   },
   "source": [
    "==============================================================================================================================="
   ]
  },
  {
   "cell_type": "markdown",
   "id": "44f2587b",
   "metadata": {
    "papermill": {
     "duration": 0.01039,
     "end_time": "2023-07-25T22:07:21.200605",
     "exception": false,
     "start_time": "2023-07-25T22:07:21.190215",
     "status": "completed"
    },
    "tags": []
   },
   "source": [
    "## É Preciso realizar ajustes ainda. "
   ]
  },
  {
   "cell_type": "markdown",
   "id": "bf4bb34a",
   "metadata": {
    "papermill": {
     "duration": 0.010893,
     "end_time": "2023-07-25T22:07:21.222192",
     "exception": false,
     "start_time": "2023-07-25T22:07:21.211299",
     "status": "completed"
    },
    "tags": []
   },
   "source": [
    "## Resolver as quantidades * colunas"
   ]
  },
  {
   "cell_type": "code",
   "execution_count": 30,
   "id": "90bc9499",
   "metadata": {
    "execution": {
     "iopub.execute_input": "2023-07-25T22:07:21.245579Z",
     "iopub.status.busy": "2023-07-25T22:07:21.245172Z",
     "iopub.status.idle": "2023-07-25T22:07:21.264972Z",
     "shell.execute_reply": "2023-07-25T22:07:21.263925Z"
    },
    "papermill": {
     "duration": 0.034197,
     "end_time": "2023-07-25T22:07:21.267240",
     "exception": false,
     "start_time": "2023-07-25T22:07:21.233043",
     "status": "completed"
    },
    "tags": []
   },
   "outputs": [
    {
     "data": {
      "text/html": [
       "<div>\n",
       "<style scoped>\n",
       "    .dataframe tbody tr th:only-of-type {\n",
       "        vertical-align: middle;\n",
       "    }\n",
       "\n",
       "    .dataframe tbody tr th {\n",
       "        vertical-align: top;\n",
       "    }\n",
       "\n",
       "    .dataframe thead th {\n",
       "        text-align: right;\n",
       "    }\n",
       "</style>\n",
       "<table border=\"1\" class=\"dataframe\">\n",
       "  <thead>\n",
       "    <tr style=\"text-align: right;\">\n",
       "      <th></th>\n",
       "      <th>Ingrediente</th>\n",
       "      <th>Segunda</th>\n",
       "      <th>Terça</th>\n",
       "      <th>Quarta</th>\n",
       "      <th>Quinta</th>\n",
       "      <th>Sexta</th>\n",
       "      <th>Sábado</th>\n",
       "      <th>Domingo</th>\n",
       "    </tr>\n",
       "  </thead>\n",
       "  <tbody>\n",
       "    <tr>\n",
       "      <th>0</th>\n",
       "      <td>Alfredo Sauce</td>\n",
       "      <td>0</td>\n",
       "      <td>0</td>\n",
       "      <td>0</td>\n",
       "      <td>0</td>\n",
       "      <td>0</td>\n",
       "      <td>0</td>\n",
       "      <td>0</td>\n",
       "    </tr>\n",
       "    <tr>\n",
       "      <th>1</th>\n",
       "      <td>Anchovies</td>\n",
       "      <td>0</td>\n",
       "      <td>0</td>\n",
       "      <td>0</td>\n",
       "      <td>0</td>\n",
       "      <td>0</td>\n",
       "      <td>0</td>\n",
       "      <td>0</td>\n",
       "    </tr>\n",
       "    <tr>\n",
       "      <th>2</th>\n",
       "      <td>Artichoke</td>\n",
       "      <td>0</td>\n",
       "      <td>0</td>\n",
       "      <td>0</td>\n",
       "      <td>0</td>\n",
       "      <td>0</td>\n",
       "      <td>0</td>\n",
       "      <td>0</td>\n",
       "    </tr>\n",
       "    <tr>\n",
       "      <th>3</th>\n",
       "      <td>Artichokes</td>\n",
       "      <td>0</td>\n",
       "      <td>0</td>\n",
       "      <td>0</td>\n",
       "      <td>0</td>\n",
       "      <td>0</td>\n",
       "      <td>0</td>\n",
       "      <td>0</td>\n",
       "    </tr>\n",
       "    <tr>\n",
       "      <th>4</th>\n",
       "      <td>Arugula</td>\n",
       "      <td>0</td>\n",
       "      <td>0</td>\n",
       "      <td>0</td>\n",
       "      <td>0</td>\n",
       "      <td>0</td>\n",
       "      <td>0</td>\n",
       "      <td>0</td>\n",
       "    </tr>\n",
       "    <tr>\n",
       "      <th>...</th>\n",
       "      <td>...</td>\n",
       "      <td>...</td>\n",
       "      <td>...</td>\n",
       "      <td>...</td>\n",
       "      <td>...</td>\n",
       "      <td>...</td>\n",
       "      <td>...</td>\n",
       "      <td>...</td>\n",
       "    </tr>\n",
       "    <tr>\n",
       "      <th>60</th>\n",
       "      <td>Thai Sweet Chilli Sauce</td>\n",
       "      <td>0</td>\n",
       "      <td>0</td>\n",
       "      <td>0</td>\n",
       "      <td>0</td>\n",
       "      <td>0</td>\n",
       "      <td>0</td>\n",
       "      <td>0</td>\n",
       "    </tr>\n",
       "    <tr>\n",
       "      <th>61</th>\n",
       "      <td>Thyme</td>\n",
       "      <td>0</td>\n",
       "      <td>0</td>\n",
       "      <td>0</td>\n",
       "      <td>0</td>\n",
       "      <td>0</td>\n",
       "      <td>0</td>\n",
       "      <td>0</td>\n",
       "    </tr>\n",
       "    <tr>\n",
       "      <th>62</th>\n",
       "      <td>Tomatoes</td>\n",
       "      <td>0</td>\n",
       "      <td>0</td>\n",
       "      <td>0</td>\n",
       "      <td>0</td>\n",
       "      <td>0</td>\n",
       "      <td>0</td>\n",
       "      <td>0</td>\n",
       "    </tr>\n",
       "    <tr>\n",
       "      <th>63</th>\n",
       "      <td>Zucchini</td>\n",
       "      <td>0</td>\n",
       "      <td>0</td>\n",
       "      <td>0</td>\n",
       "      <td>0</td>\n",
       "      <td>0</td>\n",
       "      <td>0</td>\n",
       "      <td>0</td>\n",
       "    </tr>\n",
       "    <tr>\n",
       "      <th>64</th>\n",
       "      <td>慛duja Salami</td>\n",
       "      <td>0</td>\n",
       "      <td>0</td>\n",
       "      <td>0</td>\n",
       "      <td>0</td>\n",
       "      <td>0</td>\n",
       "      <td>0</td>\n",
       "      <td>0</td>\n",
       "    </tr>\n",
       "  </tbody>\n",
       "</table>\n",
       "<p>65 rows × 8 columns</p>\n",
       "</div>"
      ],
      "text/plain": [
       "                Ingrediente  Segunda  Terça  Quarta  Quinta  Sexta  Sábado  \\\n",
       "0             Alfredo Sauce        0      0       0       0      0       0   \n",
       "1                 Anchovies        0      0       0       0      0       0   \n",
       "2                 Artichoke        0      0       0       0      0       0   \n",
       "3                Artichokes        0      0       0       0      0       0   \n",
       "4                   Arugula        0      0       0       0      0       0   \n",
       "..                      ...      ...    ...     ...     ...    ...     ...   \n",
       "60  Thai Sweet Chilli Sauce        0      0       0       0      0       0   \n",
       "61                    Thyme        0      0       0       0      0       0   \n",
       "62                 Tomatoes        0      0       0       0      0       0   \n",
       "63                 Zucchini        0      0       0       0      0       0   \n",
       "64             慛duja Salami        0      0       0       0      0       0   \n",
       "\n",
       "    Domingo  \n",
       "0         0  \n",
       "1         0  \n",
       "2         0  \n",
       "3         0  \n",
       "4         0  \n",
       "..      ...  \n",
       "60        0  \n",
       "61        0  \n",
       "62        0  \n",
       "63        0  \n",
       "64        0  \n",
       "\n",
       "[65 rows x 8 columns]"
      ]
     },
     "execution_count": 30,
     "metadata": {},
     "output_type": "execute_result"
    }
   ],
   "source": [
    "#Criando Matriz dia da Semana\n",
    "colunas = ['Ingrediente','Segunda', 'Terça', 'Quarta', 'Quinta', 'Sexta', 'Sábado', 'Domingo']\n",
    "matriz = pd.DataFrame(columns=colunas, index=None)\n",
    "matriz['Ingrediente'] = ingredientes_unicos\n",
    "matriz[matriz.columns[1:]] = 0\n",
    "matriz"
   ]
  },
  {
   "cell_type": "code",
   "execution_count": null,
   "id": "f83b56f8",
   "metadata": {
    "papermill": {
     "duration": 0.011228,
     "end_time": "2023-07-25T22:07:21.290717",
     "exception": false,
     "start_time": "2023-07-25T22:07:21.279489",
     "status": "completed"
    },
    "tags": []
   },
   "outputs": [],
   "source": []
  }
 ],
 "metadata": {
  "kernelspec": {
   "display_name": "Python 3",
   "language": "python",
   "name": "python3"
  },
  "language_info": {
   "codemirror_mode": {
    "name": "ipython",
    "version": 3
   },
   "file_extension": ".py",
   "mimetype": "text/x-python",
   "name": "python",
   "nbconvert_exporter": "python",
   "pygments_lexer": "ipython3",
   "version": "3.10.12"
  },
  "papermill": {
   "default_parameters": {},
   "duration": 55.902026,
   "end_time": "2023-07-25T22:07:22.225373",
   "environment_variables": {},
   "exception": null,
   "input_path": "__notebook__.ipynb",
   "output_path": "__notebook__.ipynb",
   "parameters": {},
   "start_time": "2023-07-25T22:06:26.323347",
   "version": "2.4.0"
  }
 },
 "nbformat": 4,
 "nbformat_minor": 5
}
